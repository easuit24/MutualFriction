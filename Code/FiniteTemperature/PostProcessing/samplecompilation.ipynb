{
 "cells": [
  {
   "cell_type": "code",
   "execution_count": 1,
   "metadata": {},
   "outputs": [],
   "source": [
    "import numpy as np\n",
    "import matplotlib.pyplot as plt\n",
    "import os \n",
    "import re\n",
    "\n"
   ]
  },
  {
   "cell_type": "code",
   "execution_count": 2,
   "metadata": {},
   "outputs": [],
   "source": [
    "os.chdir(\"/Users/TQC User/Desktop/BECs2/T1csvfiles\")"
   ]
  },
  {
   "cell_type": "code",
   "execution_count": 3,
   "metadata": {},
   "outputs": [],
   "source": [
    "all_files = os.listdir()    \n",
    "csv_files = list(filter(lambda f: f.endswith('.csv'), all_files))"
   ]
  },
  {
   "cell_type": "code",
   "execution_count": null,
   "metadata": {},
   "outputs": [],
   "source": []
  },
  {
   "cell_type": "code",
   "execution_count": 4,
   "metadata": {},
   "outputs": [
    {
     "name": "stdout",
     "output_type": "stream",
     "text": [
      "['csvT1_S15_s250000.csv', 'csvT1_S200_s500000.csv', 'csvT1_S20_s50000.csv', 'csvT1_S50_s750000.csv', 'csvT1_S51_s500000.csv', 'csvT1_S900_s50000.csv', 'S200_s750000_desktop1.csv', 'S200_s750000_desktop2.csv', 'S200_s750000_desktop3.csv']\n"
     ]
    }
   ],
   "source": [
    "print(csv_files)"
   ]
  },
  {
   "cell_type": "code",
   "execution_count": 5,
   "metadata": {},
   "outputs": [
    {
     "data": {
      "text/plain": [
       "15"
      ]
     },
     "execution_count": 5,
     "metadata": {},
     "output_type": "execute_result"
    }
   ],
   "source": [
    "int(re.findall(r'\\d+', csv_files[0])[1])"
   ]
  },
  {
   "cell_type": "code",
   "execution_count": 36,
   "metadata": {},
   "outputs": [
    {
     "name": "stdout",
     "output_type": "stream",
     "text": [
      "1002\n",
      "2002\n",
      "202\n",
      "3002\n",
      "2002\n",
      "202\n",
      "3002\n",
      "3002\n",
      "3002\n"
     ]
    }
   ],
   "source": [
    "all_runs = [] \n",
    "sample_numbers = np.zeros(len(csv_files))\n",
    "for i in range(len(csv_files)):\n",
    "    file = np.loadtxt(csv_files[i])\n",
    "    all_runs.append(file) \n",
    "all_runs_copy = all_runs.copy() \n",
    "max_length = max(map(len, all_runs))\n",
    "for i in range(len(all_runs)): \n",
    "    sample_numbers[i] = int(re.findall(r'\\d+', csv_files[i])[1])\n",
    "    print(len(all_runs[i]))\n",
    "    if len(all_runs[i]) < max_length: \n",
    "        # then pad the array \n",
    "        \n",
    "        padded_array = np.pad(all_runs[i], (0,max_length-len(all_runs[i])), 'constant', constant_values = np.nan)\n",
    "        all_runs[i] = padded_array\n",
    "\n",
    "# note: need to do a weighted average... \n",
    "sample_numbers[6:] = [67,67,67]\n",
    "avg_dist_t = np.ma.average(np.ma.masked_array(all_runs, np.isnan(all_runs)), axis = 0, weights = sample_numbers)\n",
    "std_dist_t = np.sqrt(np.ma.average((np.ma.masked_array(all_runs, np.isnan(all_runs))-avg_dist_t)**2, axis = 0, weights = sample_numbers))\n"
   ]
  },
  {
   "cell_type": "code",
   "execution_count": 37,
   "metadata": {},
   "outputs": [
    {
     "name": "stdout",
     "output_type": "stream",
     "text": [
      "[ 15. 200.  20.  50.  51. 900.  67.  67.  67.]\n"
     ]
    }
   ],
   "source": [
    "print(sample_numbers)"
   ]
  },
  {
   "cell_type": "code",
   "execution_count": 39,
   "metadata": {},
   "outputs": [],
   "source": [
    "# get sample numbers for each time step \n",
    "samples_with_time = np.zeros(len(avg_dist_t))\n",
    "for i in range(len(avg_dist_t)): \n",
    "    for j in range(len(sample_numbers)): \n",
    "        if len(all_runs_copy[j]) >= i:\n",
    "\n",
    "            samples_with_time[i] += sample_numbers[j] "
   ]
  },
  {
   "cell_type": "code",
   "execution_count": 21,
   "metadata": {},
   "outputs": [
    {
     "name": "stdout",
     "output_type": "stream",
     "text": [
      "[ 15. 200.  20.  50.  51. 900.  67.  67.  67.]\n",
      "[ 15. 200.  20.  50.  51. 900.  67.  67.  67.]\n"
     ]
    }
   ],
   "source": [
    "print(sample_numbers)\n",
    "#sample_numbers[6:] = [67,67,67]\n",
    "print(sample_numbers)"
   ]
  },
  {
   "cell_type": "code",
   "execution_count": 22,
   "metadata": {},
   "outputs": [],
   "source": [
    "dt = 0.00030517578125"
   ]
  },
  {
   "cell_type": "code",
   "execution_count": 23,
   "metadata": {},
   "outputs": [
    {
     "name": "stdout",
     "output_type": "stream",
     "text": [
      "3002\n"
     ]
    }
   ],
   "source": [
    "print(len(avg_dist_t))"
   ]
  },
  {
   "cell_type": "code",
   "execution_count": 40,
   "metadata": {},
   "outputs": [
    {
     "name": "stdout",
     "output_type": "stream",
     "text": [
      "[1437. 1437. 1437. ...  251.  251.  251.]\n"
     ]
    }
   ],
   "source": [
    "print(samples_with_time)"
   ]
  },
  {
   "cell_type": "code",
   "execution_count": 42,
   "metadata": {},
   "outputs": [
    {
     "data": {
      "image/png": "[encoded data removed]",
      "text/plain": [
       "<Figure size 640x480 with 1 Axes>"
      ]
     },
     "metadata": {},
     "output_type": "display_data"
    }
   ],
   "source": [
    "plt.figure() \n",
    "t = np.linspace(0, dt*len(avg_dist_t)*250, len(avg_dist_t))\n",
    "plt.errorbar(t, avg_dist_t, std_dist_t/np.sqrt(samples_with_time))\n",
    "#plt.plot(t, avg_dist_t) \n",
    "#plt.plot(np.arange(0,len(avg_dist_t)), avg_dist_t, std_dist_t, marker = 'o')\n",
    "\n",
    "\n",
    "plt.xlabel('Time')\n",
    "plt.ylabel('Distance between vortices')\n",
    "# plt.vlines(100, 3, 11)\n",
    "plt.grid(True)"
   ]
  },
  {
   "cell_type": "code",
   "execution_count": 11,
   "metadata": {},
   "outputs": [
    {
     "name": "stdout",
     "output_type": "stream",
     "text": [
      "3\n"
     ]
    }
   ],
   "source": [
    "print(len(all_runs[6:]))"
   ]
  }
 ],
 "metadata": {
  "kernelspec": {
   "display_name": "base",
   "language": "python",
   "name": "python3"
  },
  "language_info": {
   "codemirror_mode": {
    "name": "ipython",
    "version": 3
   },
   "file_extension": ".py",
   "mimetype": "text/x-python",
   "name": "python",
   "nbconvert_exporter": "python",
   "pygments_lexer": "ipython3",
   "version": "3.8.20"
  }
 },
 "nbformat": 4,
 "nbformat_minor": 2
}
