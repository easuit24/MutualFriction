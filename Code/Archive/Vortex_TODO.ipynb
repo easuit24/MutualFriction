{
 "cells": [
  {
   "cell_type": "markdown",
   "metadata": {},
   "source": [
    "## Resolve the diverging behavior at distant time steps \n",
    "\n",
    "- Reduce the time step to see if that resolves the issue\n",
    "    - Compare using smaller box to confirm that the divergence happens at a large time relative to the box size in a smaller box (confirmed to happen at L = 50) \n",
    "    - At these smaller boxes - reduce the time step and see if that removes the diverging behaviors \n",
    "- Make sure the script can run at the command line using the run file\n",
    "- Make the code more efficient \n"
   ]
  }
 ],
 "metadata": {
  "language_info": {
   "name": "python"
  }
 },
 "nbformat": 4,
 "nbformat_minor": 2
}
