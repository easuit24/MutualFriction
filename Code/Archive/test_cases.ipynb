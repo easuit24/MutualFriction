{
 "cells": [
  {
   "cell_type": "markdown",
   "metadata": {},
   "source": [
    "# Test Cases for Debugging the Energy Issue in 2D"
   ]
  },
  {
   "cell_type": "markdown",
   "metadata": {},
   "source": [
    "1) Energy outputs correct value for KE and PE for no interactions in harmonic potential (simulaneously checks that energy is conserved)\n",
    "\n",
    "    a) Imaginary time propagation:\n",
    "    \n",
    "    This is satisfied: KE = PE and sum to 1 as expected with the SHO energy $E = \\frac{1}{2}\\hbar\\omega$ where $\\hbar = \\omega = 1$ in this unit system.\n",
    "    \n",
    "    b) Total propagation\n",
    "\n",
    "    This is satisfied: KE = PE and sum to 1 as expected throughout both imaginary and real time propagation. One thing to note is that kinetic energy and potential energy are approximately equal, with PE being slightly greater than the KE and then swapping as real time propagation goes on. The total energy is conserved though. Maybe try extending the real time frame later if issues arise to make sure the energy stablizes for a longer simulation time (??)"
   ]
  },
  {
   "cell_type": "markdown",
   "metadata": {},
   "source": [
    "2) Energy is conserved in a box potential propagting in imaginary time with no interactions\n",
    "\n",
    "-> Skipped because the energy converges upon getting to the correct wavefunction during imaginary time propagation. One point of checking could be to make sure that the energy DOES converge for the box potential (??) "
   ]
  },
  {
   "cell_type": "markdown",
   "metadata": {},
   "source": [
    "3) Energy is conserved moving from a box potential to harmonic potential with no interactions with propagating in imaginary real time "
   ]
  },
  {
   "cell_type": "markdown",
   "metadata": {},
   "source": [
    "If (3) is not satisfied, try seeing if energy is conserved in a box potential propagating in imaginary and real time"
   ]
  },
  {
   "cell_type": "markdown",
   "metadata": {},
   "source": [
    "4) Add interactions, see if energy is conserved in box potential propagating in imaginary time"
   ]
  },
  {
   "cell_type": "markdown",
   "metadata": {},
   "source": [
    "5. Energy is conserved with interactions in propagating in imaginary and real time"
   ]
  },
  {
   "cell_type": "markdown",
   "metadata": {},
   "source": [
    "For further testing:\n",
    "- Move back to 1D is energy conserved there in imaginary and real time propagation? With and without interactions? \n",
    "\n"
   ]
  },
  {
   "cell_type": "markdown",
   "metadata": {},
   "source": []
  }
 ],
 "metadata": {
  "language_info": {
   "name": "python"
  }
 },
 "nbformat": 4,
 "nbformat_minor": 2
}
