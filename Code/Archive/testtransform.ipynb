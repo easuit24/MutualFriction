{
 "cells": [
  {
   "cell_type": "code",
   "execution_count": 1,
   "metadata": {},
   "outputs": [],
   "source": [
    "import numpy as np\n",
    "import matplotlib.pyplot as plt\n",
    "\n",
    "from scipy.fft import fft2, ifft2, fftshift, ifftshift\n",
    "\n",
    "from classicalfield import FiniteTempGPE as gpe"
   ]
  },
  {
   "cell_type": "code",
   "execution_count": 12,
   "metadata": {},
   "outputs": [],
   "source": [
    "test_arr = np.array([[0,0,0],[0,1,0],[0,0,0]])\n",
    "\n",
    "#g = gpe()\n"
   ]
  },
  {
   "cell_type": "code",
   "execution_count": 13,
   "metadata": {},
   "outputs": [],
   "source": [
    "N = len(test_arr[0]) * len(test_arr)\n",
    "L = len(test_arr)\n",
    "dx = L/np.sqrt(N)\n",
    "\n",
    "L2 = 300\n",
    "dx2  = 100\n"
   ]
  },
  {
   "cell_type": "markdown",
   "metadata": {},
   "source": [
    "Take $L$ to be the window length (since we are including classical noise outside of the box into the window itself) and $dx$ to be the spacing between grid points. These paramters are defined in the Python script already. We now define the density $n_k$ to be the 3x3 array that contains all zeros except for the center position at (1,1) that instead contains a $1$. Evaluating the expression $\\tilde{\\psi}_k = L/\\Delta x^2 \\sqrt{n_k}$ retrieves the wavefunction value in $k$ space expected by scipy's Fourier transform definition. Taking the inverse Fourier transform transforms the function into real space. Integrating over the resultant $|\\psi(x)|^2$ yields the number of particles. In this case, the number of particles should be $1$. "
   ]
  },
  {
   "cell_type": "code",
   "execution_count": 14,
   "metadata": {},
   "outputs": [
    {
     "name": "stdout",
     "output_type": "stream",
     "text": [
      "3.0\n",
      "[[0. 0. 0.]\n",
      " [0. 3. 0.]\n",
      " [0. 0. 0.]]\n",
      "[[0. 0. 0.]\n",
      " [0. 3. 0.]\n",
      " [0. 0. 0.]]\n",
      "1.0\n"
     ]
    }
   ],
   "source": [
    "psik_t = L/dx**2 * np.sqrt(test_arr)\n",
    "print(L/dx**2)\n",
    "print(L/dx**2 * np.sqrt(test_arr))\n",
    "print(psik_t)\n",
    "\n",
    "psix_t = ifft2(psik_t)\n",
    "print(np.sum(np.abs(psix_t)**2)*dx**2)\n"
   ]
  },
  {
   "cell_type": "code",
   "execution_count": 5,
   "metadata": {},
   "outputs": [
    {
     "name": "stdout",
     "output_type": "stream",
     "text": [
      "0.03\n",
      "[[0.   0.   0.  ]\n",
      " [0.   0.03 0.  ]\n",
      " [0.   0.   0.  ]]\n",
      "[[0.   0.   0.  ]\n",
      " [0.   0.03 0.  ]\n",
      " [0.   0.   0.  ]]\n",
      "0.9999999999999998\n"
     ]
    }
   ],
   "source": [
    "psik_t = L2/dx2**2 * np.sqrt(test_arr)\n",
    "print(L2/dx2**2)\n",
    "print(L2/dx2**2 * np.sqrt(test_arr))\n",
    "print(psik_t)\n",
    "\n",
    "psix_t = ifft2(psik_t)\n",
    "print(np.sum(np.abs(psix_t)**2)*dx2**2)"
   ]
  }
 ],
 "metadata": {
  "kernelspec": {
   "display_name": "base",
   "language": "python",
   "name": "python3"
  },
  "language_info": {
   "codemirror_mode": {
    "name": "ipython",
    "version": 3
   },
   "file_extension": ".py",
   "mimetype": "text/x-python",
   "name": "python",
   "nbconvert_exporter": "python",
   "pygments_lexer": "ipython3",
   "version": "3.8.20"
  }
 },
 "nbformat": 4,
 "nbformat_minor": 2
}
