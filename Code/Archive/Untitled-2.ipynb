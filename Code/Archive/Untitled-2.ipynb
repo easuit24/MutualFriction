{
 "cells": [
  {
   "cell_type": "code",
   "execution_count": null,
   "metadata": {},
   "outputs": [],
   "source": [
    "import numpy as np\n",
    "import matplotlib.pyplot as plt\n",
    "from scipy.fft import fft2, ifft2, fftshift, ifftshift \n",
    "\n",
    "from classicalfield_orig import FiniteTempGPE as gpe\n",
    "The following code runs until total time = 200 with a dt half that of the dt from the long simulation and a potential well that is double the height of the potential height from the long simulation \n",
    "imported_data = np.loadtxt('output.csv', dtype = np.complex_)\n",
    "plt.imshow(np.abs(imported_data))\n",
    "g_2 = gpe(npoints = 2**7, numImagSteps = 2000, numRealSteps = 525000, dtcoef = 0.00125, Nsamples = 1, runAnim = True, animFileName = 'longeranimbox_2_pt3.mp4', Tfact = 1/2, dst = False, imp = True, impPsi = imported_data)\n",
    "plt.figure() \n",
    "plt.plot(g_2.xi[0][0], np.abs(g_2.snaps[0][len(g_2.snaps[0])//2])**2)\n",
    "plt.plot(g_2.xi[0][0], np.abs(g_2.snaps[-1][len(g_2.snaps[-1])//2])**2)\n",
    "print(np.shape(g_2.snaps))\n",
    "plt.figure() \n",
    "plt.plot(g_2.ki[0][0], np.abs(fft2(g_2.snaps[0])[0])**2)\n",
    "plt.plot(g_2.ki[0][0], np.abs(fft2(g_2.snaps[4100])[0])**2)\n",
    "plt.yscale('log')\n",
    "plt.xscale('log')\n",
    "# save txt \n",
    "np.savetxt('output.csv', g_2.snaps[-1])\n",
    "plt.figure() \n",
    "plt.imshow(np.abs(g_2.snaps[-1])**2)\n",
    "g = g_2\n",
    "print(\"Temperature: \", g.T)\n",
    "# KE ~ 32 \n",
    "print(\"dt: \", g.gpeobj.dt)\n",
    "print(\"PE: \", np.max(g.gpeobj.Vbox))\n",
    "# Eventually increase V once you can reproduce earlier results in the other file \n",
    "print(\"KE: \", (np.pi/g.dx)**2/2)\n",
    "print(\"Interaction Energy: \" , g.gpeobj.g * 50)\n",
    "print(\"Total Time: \", g.gpeobj.dt * g.numRealSteps)\n",
    "print(\"Number of Atoms\", g.gpeobj.Natoms)\n",
    "100/g.gpeobj.dt"
   ]
  }
 ],
 "metadata": {
  "kernelspec": {
   "display_name": "base",
   "language": "python",
   "name": "python3"
  },
  "language_info": {
   "name": "python",
   "version": "3.8.20"
  }
 },
 "nbformat": 4,
 "nbformat_minor": 2
}
